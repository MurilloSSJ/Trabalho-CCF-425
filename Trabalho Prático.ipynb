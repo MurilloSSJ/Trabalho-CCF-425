{
 "cells": [
  {
   "cell_type": "code",
   "execution_count": 37,
   "id": "516a97a8",
   "metadata": {},
   "outputs": [
    {
     "data": {
      "text/plain": [
       "<bound method NDFrame.head of         NU_INSCRICAO  NU_ANO  TP_FAIXA_ETARIA TP_SEXO  TP_ESTADO_CIVIL  \\\n",
       "0       200006271946    2020               11       F                1   \n",
       "1       200001195856    2020               11       M                2   \n",
       "2       200001943954    2020                4       F                2   \n",
       "3       200001908998    2020                2       M                1   \n",
       "4       200001634757    2020                4       F                1   \n",
       "...              ...     ...              ...     ...              ...   \n",
       "499995  200004258287    2020                2       F                1   \n",
       "499996  200005431672    2020               11       F                1   \n",
       "499997  200001990914    2020                2       M                1   \n",
       "499998  200005626167    2020               11       F                1   \n",
       "499999  200002236054    2020               11       M                1   \n",
       "\n",
       "        TP_COR_RACA  TP_NACIONALIDADE  TP_ST_CONCLUSAO  TP_ANO_CONCLUIU  \\\n",
       "0                 2                 1                1               11   \n",
       "1                 3                 1                1               11   \n",
       "2                 3                 2                2                0   \n",
       "3                 3                 1                2                0   \n",
       "4                 3                 2                1                1   \n",
       "...             ...               ...              ...              ...   \n",
       "499995            2                 1                2                0   \n",
       "499996            1                 1                1                9   \n",
       "499997            1                 1                2                0   \n",
       "499998            3                 1                1               12   \n",
       "499999            1                 1                1                0   \n",
       "\n",
       "        TP_ESCOLA  ...  Q016  Q017  Q018 Q019  Q020 Q021  Q022  Q023  Q024  \\\n",
       "0               1  ...   NaN   NaN   NaN  NaN   NaN  NaN   NaN   NaN   NaN   \n",
       "1               1  ...   NaN   NaN   NaN  NaN   NaN  NaN   NaN   NaN   NaN   \n",
       "2               2  ...     B     A     A    B     A    A     A     A     A   \n",
       "3               2  ...   NaN   NaN   NaN  NaN   NaN  NaN   NaN   NaN   NaN   \n",
       "4               1  ...     A     A     A    B     A    B     B     A     A   \n",
       "...           ...  ...   ...   ...   ...  ...   ...  ...   ...   ...   ...   \n",
       "499995          2  ...     A     A     A    B     B    A     D     A     A   \n",
       "499996          1  ...     B     A     A    B     A    A     E     B     A   \n",
       "499997          3  ...     B     A     B    D     A    B     E     B     E   \n",
       "499998          1  ...     A     A     A    B     B    A     D     A     A   \n",
       "499999          1  ...     A     A     A    B     A    A     B     A     B   \n",
       "\n",
       "        Q025  \n",
       "0        NaN  \n",
       "1        NaN  \n",
       "2          A  \n",
       "3        NaN  \n",
       "4          B  \n",
       "...      ...  \n",
       "499995     B  \n",
       "499996     B  \n",
       "499997     B  \n",
       "499998     A  \n",
       "499999     B  \n",
       "\n",
       "[500000 rows x 76 columns]>"
      ]
     },
     "execution_count": 37,
     "metadata": {},
     "output_type": "execute_result"
    }
   ],
   "source": [
    "import pandas as pd\n",
    "df = pd.read_csv('../Downloads/microdados_enem_2020/DADOS/MICRODADOS_ENEM_2020.csv', encoding='latin1', sep=';', nrows=500000)\n",
    "df.head"
   ]
  },
  {
   "cell_type": "code",
   "execution_count": 13,
   "id": "8116a860",
   "metadata": {},
   "outputs": [
    {
     "data": {
      "text/plain": [
       "array(['Solteiro', 'Casado', 'Nao Informado', 'Divorciado', 'Viuvo'],\n",
       "      dtype=object)"
      ]
     },
     "execution_count": 13,
     "metadata": {},
     "output_type": "execute_result"
    }
   ],
   "source": [
    "def alter_estado_civil(value):\n",
    "    dict_states = ['Nao Informado', 'Solteiro', 'Casado', 'Divorciado', 'Viuvo']\n",
    "    return dict_states[value]\n",
    "df['TP_ESTADO_CIVIL'] = df['TP_ESTADO_CIVIL'].map(lambda x : alter_estado_civil(x))\n",
    "df['TP_ESTADO_CIVIL'].unique()"
   ]
  },
  {
   "cell_type": "code",
   "execution_count": 14,
   "id": "6ceff687",
   "metadata": {},
   "outputs": [
    {
     "data": {
      "text/plain": [
       "0          Preta\n",
       "1          Parda\n",
       "2          Parda\n",
       "3          Parda\n",
       "4          Parda\n",
       "           ...  \n",
       "499995     Preta\n",
       "499996    Branca\n",
       "499997    Branca\n",
       "499998     Parda\n",
       "499999    Branca\n",
       "Name: TP_COR_RACA, Length: 500000, dtype: object"
      ]
     },
     "execution_count": 14,
     "metadata": {},
     "output_type": "execute_result"
    }
   ],
   "source": [
    "def alter_cor_raca(value):\n",
    "    map_object = ['Nao Declarado', 'Branca', 'Preta', 'Parda', 'Amarela', 'Indigena']\n",
    "    return map_object[value]\n",
    "df['TP_COR_RACA'] = df['TP_COR_RACA'].map(lambda x: alter_cor_raca(x))\n",
    "df['TP_COR_RACA']"
   ]
  },
  {
   "cell_type": "code",
   "execution_count": 15,
   "id": "b42d6bff",
   "metadata": {},
   "outputs": [
    {
     "data": {
      "text/plain": [
       "0                      Brasileiro\n",
       "1                      Brasileiro\n",
       "2         Brasileiro Naturalizado\n",
       "3                      Brasileiro\n",
       "4         Brasileiro Naturalizado\n",
       "                   ...           \n",
       "499995                 Brasileiro\n",
       "499996                 Brasileiro\n",
       "499997                 Brasileiro\n",
       "499998                 Brasileiro\n",
       "499999                 Brasileiro\n",
       "Name: TP_NACIONALIDADE, Length: 500000, dtype: object"
      ]
     },
     "execution_count": 15,
     "metadata": {},
     "output_type": "execute_result"
    }
   ],
   "source": [
    "def alter_nacionalidade(value):\n",
    "    map_objects = ['Nao informado', 'Brasileiro', 'Brasileiro Naturalizado', 'Estrangeiro', 'Brasileiro nascido no exterior']\n",
    "    if value != None:\n",
    "        return map_objects[value]\n",
    "    else:\n",
    "        return 'Nao informado'\n",
    "\n",
    "df['TP_NACIONALIDADE'] = df['TP_NACIONALIDADE'].map(lambda x: alter_nacionalidade(x))\n",
    "df['TP_NACIONALIDADE']"
   ]
  },
  {
   "cell_type": "code",
   "execution_count": 16,
   "id": "518d996f",
   "metadata": {},
   "outputs": [
    {
     "data": {
      "text/plain": [
       "0                 Ensino medio completo\n",
       "1                 Ensino medio completo\n",
       "2         Ensino medio completo em 2020\n",
       "3         Ensino medio completo em 2020\n",
       "4                 Ensino medio completo\n",
       "                      ...              \n",
       "499995    Ensino medio completo em 2020\n",
       "499996            Ensino medio completo\n",
       "499997    Ensino medio completo em 2020\n",
       "499998            Ensino medio completo\n",
       "499999            Ensino medio completo\n",
       "Name: TP_ST_CONCLUSAO, Length: 500000, dtype: object"
      ]
     },
     "execution_count": 16,
     "metadata": {},
     "output_type": "execute_result"
    }
   ],
   "source": [
    "def alter_st_conclusao(value):\n",
    "    map_objects = ['Ensino medio completo', 'Ensino medio completo em 2020', 'Ensino Medio Incompleto apos 2020', 'Sem ensino medio']\n",
    "    return map_objects[value - 1]\n",
    "df['TP_ST_CONCLUSAO'] = df['TP_ST_CONCLUSAO'].map(lambda x : alter_st_conclusao(x))\n",
    "df['TP_ST_CONCLUSAO']"
   ]
  },
  {
   "cell_type": "code",
   "execution_count": 18,
   "id": "565661a7",
   "metadata": {},
   "outputs": [
    {
     "data": {
      "text/plain": [
       "0                  2009\n",
       "1                  2009\n",
       "2         Nao Informado\n",
       "3         Nao Informado\n",
       "4                  2019\n",
       "              ...      \n",
       "499995    Nao Informado\n",
       "499996             2011\n",
       "499997    Nao Informado\n",
       "499998             2008\n",
       "499999    Nao Informado\n",
       "Name: TP_ANO_CONCLUIU, Length: 500000, dtype: object"
      ]
     },
     "execution_count": 18,
     "metadata": {},
     "output_type": "execute_result"
    }
   ],
   "source": [
    "map_tp_ano_concluiu = ['Nao Informado', 2019, 2018, 2017, 2016, 2015, 2014, 2013, 2012, 2011, 2010, 2009, 2008, 2007, 'Antes de 2007']\n",
    "df['TP_ANO_CONCLUIU'] = df['TP_ANO_CONCLUIU'].map(lambda x: map_tp_ano_concluiu[x])\n",
    "df['TP_ANO_CONCLUIU']"
   ]
  },
  {
   "cell_type": "code",
   "execution_count": 20,
   "id": "3ce410a4",
   "metadata": {},
   "outputs": [
    {
     "data": {
      "text/plain": [
       "0         Nao Respondeu\n",
       "1         Nao Respondeu\n",
       "2               Publica\n",
       "3               Publica\n",
       "4         Nao Respondeu\n",
       "              ...      \n",
       "499995          Publica\n",
       "499996    Nao Respondeu\n",
       "499997          Privada\n",
       "499998    Nao Respondeu\n",
       "499999    Nao Respondeu\n",
       "Name: TP_ESCOLA, Length: 500000, dtype: object"
      ]
     },
     "execution_count": 20,
     "metadata": {},
     "output_type": "execute_result"
    }
   ],
   "source": [
    "map_tp_escola = ['', 'Nao Respondeu', 'Publica', 'Privada', 'Exterior']\n",
    "df['TP_ESCOLA'] = df['TP_ESCOLA'].map(lambda x: map_tp_escola[x])\n",
    "df['TP_ESCOLA']"
   ]
  },
  {
   "cell_type": "code",
   "execution_count": 45,
   "id": "170ba7ce",
   "metadata": {},
   "outputs": [
    {
     "name": "stderr",
     "output_type": "stream",
     "text": [
      "/tmp/ipykernel_35179/591481954.py:3: SettingWithCopyWarning: \n",
      "A value is trying to be set on a copy of a slice from a DataFrame.\n",
      "Try using .loc[row_indexer,col_indexer] = value instead\n",
      "\n",
      "See the caveats in the documentation: https://pandas.pydata.org/pandas-docs/stable/user_guide/indexing.html#returning-a-view-versus-a-copy\n",
      "  df['TP_ENSINO'] = df['TP_ENSINO'].astype(int)\n",
      "/tmp/ipykernel_35179/591481954.py:5: SettingWithCopyWarning: \n",
      "A value is trying to be set on a copy of a slice from a DataFrame.\n",
      "Try using .loc[row_indexer,col_indexer] = value instead\n",
      "\n",
      "See the caveats in the documentation: https://pandas.pydata.org/pandas-docs/stable/user_guide/indexing.html#returning-a-view-versus-a-copy\n",
      "  df['TP_ENSINO'] = df['TP_ENSINO'].map(lambda x: map_tp_ensino[x])\n"
     ]
    }
   ],
   "source": [
    "map_tp_ensino = ['', 'Regular', 'Especial', 'EJA']\n",
    "df = df.dropna()\n",
    "df['TP_ENSINO'] = df['TP_ENSINO'].astype(int)\n",
    "df['TP_ENSINO'].unique()\n",
    "df['TP_ENSINO'] = df['TP_ENSINO'].map(lambda x: map_tp_ensino[x])"
   ]
  },
  {
   "cell_type": "code",
   "execution_count": 39,
   "id": "fc2d6fe4",
   "metadata": {},
   "outputs": [
    {
     "data": {
      "text/plain": [
       "array([nan,  1.,  2.])"
      ]
     },
     "execution_count": 39,
     "metadata": {},
     "output_type": "execute_result"
    }
   ],
   "source": [
    "df['TP_ENSINO'].unique()"
   ]
  },
  {
   "cell_type": "code",
   "execution_count": 41,
   "id": "db60a224",
   "metadata": {},
   "outputs": [
    {
     "data": {
      "text/plain": [
       "0         False\n",
       "1         False\n",
       "2         False\n",
       "3         False\n",
       "4         False\n",
       "          ...  \n",
       "499995    False\n",
       "499996    False\n",
       "499997    False\n",
       "499998    False\n",
       "499999    False\n",
       "Name: IN_TREINEIRO, Length: 500000, dtype: bool"
      ]
     },
     "execution_count": 41,
     "metadata": {},
     "output_type": "execute_result"
    }
   ],
   "source": [
    "map_in_treineiro = [False, True]\n",
    "df['IN_TREINEIRO'] = df['IN_TREINEIRO'].map(lambda x : map_in_treineiro[x])\n",
    "df['IN_TREINEIRO']"
   ]
  },
  {
   "cell_type": "code",
   "execution_count": 42,
   "id": "56982606",
   "metadata": {},
   "outputs": [
    {
     "data": {
      "text/plain": [
       "array([False,  True])"
      ]
     },
     "execution_count": 42,
     "metadata": {},
     "output_type": "execute_result"
    }
   ],
   "source": [
    "df['IN_TREINEIRO'].unique()"
   ]
  },
  {
   "cell_type": "code",
   "execution_count": 48,
   "id": "920d8e53",
   "metadata": {},
   "outputs": [
    {
     "name": "stderr",
     "output_type": "stream",
     "text": [
      "/tmp/ipykernel_35179/794729705.py:2: SettingWithCopyWarning: \n",
      "A value is trying to be set on a copy of a slice from a DataFrame.\n",
      "Try using .loc[row_indexer,col_indexer] = value instead\n",
      "\n",
      "See the caveats in the documentation: https://pandas.pydata.org/pandas-docs/stable/user_guide/indexing.html#returning-a-view-versus-a-copy\n",
      "  df['TP_DEPENDENCIA_ADM_ESC'] = df['TP_DEPENDENCIA_ADM_ESC'].astype(int)\n",
      "/tmp/ipykernel_35179/794729705.py:3: SettingWithCopyWarning: \n",
      "A value is trying to be set on a copy of a slice from a DataFrame.\n",
      "Try using .loc[row_indexer,col_indexer] = value instead\n",
      "\n",
      "See the caveats in the documentation: https://pandas.pydata.org/pandas-docs/stable/user_guide/indexing.html#returning-a-view-versus-a-copy\n",
      "  df['TP_DEPENDENCIA_ADM_ESC'] = df['TP_DEPENDENCIA_ADM_ESC'].map(lambda x : map_tp_dependencia_esc[x])\n"
     ]
    },
    {
     "data": {
      "text/plain": [
       "array(['Estadual', 'Federal', 'Privada', 'Municipal'], dtype=object)"
      ]
     },
     "execution_count": 48,
     "metadata": {},
     "output_type": "execute_result"
    }
   ],
   "source": [
    "map_tp_dependencia_esc = ['', 'Federal', 'Estadual', 'Municipal','Privada']\n",
    "df['TP_DEPENDENCIA_ADM_ESC'] = df['TP_DEPENDENCIA_ADM_ESC'].astype(int)\n",
    "df['TP_DEPENDENCIA_ADM_ESC'] = df['TP_DEPENDENCIA_ADM_ESC'].map(lambda x : map_tp_dependencia_esc[x])\n",
    "df['TP_DEPENDENCIA_ADM_ESC'].unique()"
   ]
  },
  {
   "cell_type": "code",
   "execution_count": 50,
   "id": "29cc6269",
   "metadata": {},
   "outputs": [
    {
     "name": "stderr",
     "output_type": "stream",
     "text": [
      "/tmp/ipykernel_35179/2243934999.py:3: SettingWithCopyWarning: \n",
      "A value is trying to be set on a copy of a slice from a DataFrame.\n",
      "Try using .loc[row_indexer,col_indexer] = value instead\n",
      "\n",
      "See the caveats in the documentation: https://pandas.pydata.org/pandas-docs/stable/user_guide/indexing.html#returning-a-view-versus-a-copy\n",
      "  df['TP_LOCALIZACAO_ESC'] = df['TP_LOCALIZACAO_ESC'].astype(int)\n",
      "/tmp/ipykernel_35179/2243934999.py:4: SettingWithCopyWarning: \n",
      "A value is trying to be set on a copy of a slice from a DataFrame.\n",
      "Try using .loc[row_indexer,col_indexer] = value instead\n",
      "\n",
      "See the caveats in the documentation: https://pandas.pydata.org/pandas-docs/stable/user_guide/indexing.html#returning-a-view-versus-a-copy\n",
      "  df['TP_LOCALIZACAO_ESC'] = df['TP_LOCALIZACAO_ESC'].map(lambda x : map_localizacao_esc[x])\n"
     ]
    },
    {
     "data": {
      "text/plain": [
       "array(['Urbana', 'Rural'], dtype=object)"
      ]
     },
     "execution_count": 50,
     "metadata": {},
     "output_type": "execute_result"
    }
   ],
   "source": [
    "map_localizacao_esc = ['', 'Urbana', 'Rural']\n",
    "df['TP_LOCALIZACAO_ESC'] = df['TP_LOCALIZACAO_ESC'].astype(int)\n",
    "df['TP_LOCALIZACAO_ESC'] = df['TP_LOCALIZACAO_ESC'].map(lambda x : map_localizacao_esc[x])\n",
    "df['TP_LOCALIZACAO_ESC'].unique()"
   ]
  },
  {
   "cell_type": "code",
   "execution_count": 52,
   "id": "da525a53",
   "metadata": {},
   "outputs": [
    {
     "name": "stderr",
     "output_type": "stream",
     "text": [
      "/tmp/ipykernel_35179/195022291.py:3: SettingWithCopyWarning: \n",
      "A value is trying to be set on a copy of a slice from a DataFrame.\n",
      "Try using .loc[row_indexer,col_indexer] = value instead\n",
      "\n",
      "See the caveats in the documentation: https://pandas.pydata.org/pandas-docs/stable/user_guide/indexing.html#returning-a-view-versus-a-copy\n",
      "  df['TP_SIT_FUNC_ESC'] = df['TP_SIT_FUNC_ESC'].astype(int)\n",
      "/tmp/ipykernel_35179/195022291.py:4: SettingWithCopyWarning: \n",
      "A value is trying to be set on a copy of a slice from a DataFrame.\n",
      "Try using .loc[row_indexer,col_indexer] = value instead\n",
      "\n",
      "See the caveats in the documentation: https://pandas.pydata.org/pandas-docs/stable/user_guide/indexing.html#returning-a-view-versus-a-copy\n",
      "  df['TP_SIT_FUNC_ESC'] = df['TP_SIT_FUNC_ESC'].map(lambda x : map_func_esc[x])\n"
     ]
    },
    {
     "data": {
      "text/plain": [
       "array(['Em Atividade', 'Extinta', 'Paralisada'], dtype=object)"
      ]
     },
     "execution_count": 52,
     "metadata": {},
     "output_type": "execute_result"
    }
   ],
   "source": [
    "map_func_esc = ['', 'Em Atividade', 'Paralisada', 'Extinta', 'Extinta']\n",
    "df['TP_SIT_FUNC_ESC'].unique()\n",
    "df['TP_SIT_FUNC_ESC'] = df['TP_SIT_FUNC_ESC'].astype(int)\n",
    "df['TP_SIT_FUNC_ESC'] = df['TP_SIT_FUNC_ESC'].map(lambda x : map_func_esc[x])\n",
    "df['TP_SIT_FUNC_ESC'].unique()"
   ]
  },
  {
   "cell_type": "code",
   "execution_count": 54,
   "id": "11cd2c03",
   "metadata": {},
   "outputs": [
    {
     "name": "stderr",
     "output_type": "stream",
     "text": [
      "/tmp/ipykernel_35179/1975983007.py:2: SettingWithCopyWarning: \n",
      "A value is trying to be set on a copy of a slice from a DataFrame.\n",
      "Try using .loc[row_indexer,col_indexer] = value instead\n",
      "\n",
      "See the caveats in the documentation: https://pandas.pydata.org/pandas-docs/stable/user_guide/indexing.html#returning-a-view-versus-a-copy\n",
      "  df['TP_PRESENCA_CN'] = df['TP_PRESENCA_CN'].map(lambda x: map_presenca[x])\n",
      "/tmp/ipykernel_35179/1975983007.py:3: SettingWithCopyWarning: \n",
      "A value is trying to be set on a copy of a slice from a DataFrame.\n",
      "Try using .loc[row_indexer,col_indexer] = value instead\n",
      "\n",
      "See the caveats in the documentation: https://pandas.pydata.org/pandas-docs/stable/user_guide/indexing.html#returning-a-view-versus-a-copy\n",
      "  df['TP_PRESENCA_CH'] = df['TP_PRESENCA_CH'].map(lambda x: map_presenca[x])\n",
      "/tmp/ipykernel_35179/1975983007.py:4: SettingWithCopyWarning: \n",
      "A value is trying to be set on a copy of a slice from a DataFrame.\n",
      "Try using .loc[row_indexer,col_indexer] = value instead\n",
      "\n",
      "See the caveats in the documentation: https://pandas.pydata.org/pandas-docs/stable/user_guide/indexing.html#returning-a-view-versus-a-copy\n",
      "  df['TP_PRESENCA_LC'] = df['TP_PRESENCA_LC'].map(lambda x: map_presenca[x])\n",
      "/tmp/ipykernel_35179/1975983007.py:5: SettingWithCopyWarning: \n",
      "A value is trying to be set on a copy of a slice from a DataFrame.\n",
      "Try using .loc[row_indexer,col_indexer] = value instead\n",
      "\n",
      "See the caveats in the documentation: https://pandas.pydata.org/pandas-docs/stable/user_guide/indexing.html#returning-a-view-versus-a-copy\n",
      "  df['TP_PRESENCA_MT'] = df['TP_PRESENCA_MT'].map(lambda x: map_presenca[x])\n"
     ]
    },
    {
     "data": {
      "text/plain": [
       "array(['Presente'], dtype=object)"
      ]
     },
     "execution_count": 54,
     "metadata": {},
     "output_type": "execute_result"
    }
   ],
   "source": [
    "map_presenca = ['Faltou', 'Presente', 'Eliminado']\n",
    "df['TP_PRESENCA_CN'] = df['TP_PRESENCA_CN'].map(lambda x: map_presenca[x])\n",
    "df['TP_PRESENCA_CH'] = df['TP_PRESENCA_CH'].map(lambda x: map_presenca[x])\n",
    "df['TP_PRESENCA_LC'] = df['TP_PRESENCA_LC'].map(lambda x: map_presenca[x])\n",
    "df['TP_PRESENCA_MT'] = df['TP_PRESENCA_MT'].map(lambda x: map_presenca[x])\n",
    "df['TP_PRESENCA_MT'].unique()"
   ]
  },
  {
   "cell_type": "code",
   "execution_count": 55,
   "id": "e1ee5d52",
   "metadata": {},
   "outputs": [
    {
     "name": "stdout",
     "output_type": "stream",
     "text": [
      "['Presente']\n",
      "['Presente']\n",
      "['Presente']\n"
     ]
    }
   ],
   "source": [
    "print(df['TP_PRESENCA_CN'].unique())\n",
    "print(df['TP_PRESENCA_CH'].unique())\n",
    "print(df['TP_PRESENCA_LC'].unique())"
   ]
  },
  {
   "cell_type": "code",
   "execution_count": 57,
   "id": "367cc764",
   "metadata": {},
   "outputs": [
    {
     "name": "stderr",
     "output_type": "stream",
     "text": [
      "/tmp/ipykernel_35179/1313003076.py:3: SettingWithCopyWarning: \n",
      "A value is trying to be set on a copy of a slice from a DataFrame.\n",
      "Try using .loc[row_indexer,col_indexer] = value instead\n",
      "\n",
      "See the caveats in the documentation: https://pandas.pydata.org/pandas-docs/stable/user_guide/indexing.html#returning-a-view-versus-a-copy\n",
      "  df['TP_LINGUA'] = df.loc[:, 'TP_LINGUA'].map(lambda x: map_tp_lingua[x])\n"
     ]
    },
    {
     "data": {
      "text/plain": [
       "array(['Espanhol', 'Ingles'], dtype=object)"
      ]
     },
     "execution_count": 57,
     "metadata": {},
     "output_type": "execute_result"
    }
   ],
   "source": [
    "map_tp_lingua = ['Ingles', 'Espanhol']\n",
    "df['TP_LINGUA'].unique()\n",
    "df['TP_LINGUA'] = df.loc[:, 'TP_LINGUA'].map(lambda x: map_tp_lingua[x])\n",
    "df['TP_LINGUA'].unique()"
   ]
  },
  {
   "cell_type": "code",
   "execution_count": 63,
   "id": "937828f3",
   "metadata": {},
   "outputs": [
    {
     "name": "stderr",
     "output_type": "stream",
     "text": [
      "/tmp/ipykernel_35179/42317584.py:2: SettingWithCopyWarning: \n",
      "A value is trying to be set on a copy of a slice from a DataFrame.\n",
      "Try using .loc[row_indexer,col_indexer] = value instead\n",
      "\n",
      "See the caveats in the documentation: https://pandas.pydata.org/pandas-docs/stable/user_guide/indexing.html#returning-a-view-versus-a-copy\n",
      "  df.loc[:, 'TP_STATUS_REDACAO'] = df.loc[:, 'TP_STATUS_REDACAO'].astype(int)\n",
      "/tmp/ipykernel_35179/42317584.py:3: SettingWithCopyWarning: \n",
      "A value is trying to be set on a copy of a slice from a DataFrame.\n",
      "Try using .loc[row_indexer,col_indexer] = value instead\n",
      "\n",
      "See the caveats in the documentation: https://pandas.pydata.org/pandas-docs/stable/user_guide/indexing.html#returning-a-view-versus-a-copy\n",
      "  df['TP_STATUS_REDACAO'] = df.loc[:, 'TP_STATUS_REDACAO'].map(lambda x: map_status_redacao[x])\n"
     ]
    },
    {
     "data": {
      "text/plain": [
       "array(['Normal', 'Anulada'], dtype=object)"
      ]
     },
     "execution_count": 63,
     "metadata": {},
     "output_type": "execute_result"
    }
   ],
   "source": [
    "map_status_redacao = ['', 'Normal', 'Anulada', 'Anulada', 'Anulada', 'Anulada', 'Anulada', 'Anulada', 'Anulada', 'Anulada']\n",
    "df.loc[:, 'TP_STATUS_REDACAO'] = df.loc[:, 'TP_STATUS_REDACAO'].astype(int)\n",
    "df['TP_STATUS_REDACAO'] = df.loc[:, 'TP_STATUS_REDACAO'].map(lambda x: map_status_redacao[x])\n",
    "df['TP_STATUS_REDACAO'].unique()"
   ]
  },
  {
   "cell_type": "code",
   "execution_count": 64,
   "id": "f5eda3d3",
   "metadata": {},
   "outputs": [],
   "source": [
    "df = df.drop(columns = ['Q003', 'Q004', 'Q018', 'Q020', 'Q017', 'Q023'])"
   ]
  },
  {
   "cell_type": "code",
   "execution_count": 65,
   "id": "faec30d2",
   "metadata": {},
   "outputs": [],
   "source": [
    "df = df.rename(columns = {'Q001': 'ESCOLARIDADE_PAI', 'QOO2': 'ESCOLARIDADE_MAE', 'Q005': 'QUANTIDADE_MORADORES', 'Q006':'RENDA_FAMILIA', \\\n",
    "                          'Q007': 'EMPREGADOS_DOMESTICOS_FAMILIA', 'Q008': 'BANHEIROS_RESIDENCIA', 'Q009': 'QUARTOS_RESIDENCIA', \\\n",
    "                          'Q010': 'QNTD_CARROS', 'Q011': 'QNTD_MOTOS', 'Q012': 'QNTD_GELADEIRAS', 'Q013':'QNTD_FREEZER', \\\n",
    "                          'Q014': 'QNTD_MAQUINA_LAVAR', 'Q015': 'QNTD_MAQUINA_SECAR', 'Q016': 'QNTD_MICROONDAS', 'Q019': 'QNTD_TELEVISAO', \\\n",
    "                          'Q021': 'TV_ASSINATURA', 'Q022': 'QNTD_CELULAR', 'Q024': 'QNTD_COMPUTADOR', 'Q025': 'ACESSO_INTERNET'})\n"
   ]
  },
  {
   "cell_type": "code",
   "execution_count": 66,
   "id": "ae0b68af",
   "metadata": {},
   "outputs": [
    {
     "data": {
      "text/html": [
       "<div>\n",
       "<style scoped>\n",
       "    .dataframe tbody tr th:only-of-type {\n",
       "        vertical-align: middle;\n",
       "    }\n",
       "\n",
       "    .dataframe tbody tr th {\n",
       "        vertical-align: top;\n",
       "    }\n",
       "\n",
       "    .dataframe thead th {\n",
       "        text-align: right;\n",
       "    }\n",
       "</style>\n",
       "<table border=\"1\" class=\"dataframe\">\n",
       "  <thead>\n",
       "    <tr style=\"text-align: right;\">\n",
       "      <th></th>\n",
       "      <th>NU_INSCRICAO</th>\n",
       "      <th>NU_ANO</th>\n",
       "      <th>TP_FAIXA_ETARIA</th>\n",
       "      <th>TP_SEXO</th>\n",
       "      <th>TP_ESTADO_CIVIL</th>\n",
       "      <th>TP_COR_RACA</th>\n",
       "      <th>TP_NACIONALIDADE</th>\n",
       "      <th>TP_ST_CONCLUSAO</th>\n",
       "      <th>TP_ANO_CONCLUIU</th>\n",
       "      <th>TP_ESCOLA</th>\n",
       "      <th>...</th>\n",
       "      <th>QNTD_MAQUINA_LAVAR</th>\n",
       "      <th>QNTD_MAQUINA_SECAR</th>\n",
       "      <th>QNTD_MICROONDAS</th>\n",
       "      <th>Q017</th>\n",
       "      <th>QNTD_TELEVISAO</th>\n",
       "      <th>TV_ASSINATURA</th>\n",
       "      <th>QNTD_CELULAR</th>\n",
       "      <th>Q023</th>\n",
       "      <th>QNTD_COMPUTADOR</th>\n",
       "      <th>ACESSO_INTERNET</th>\n",
       "    </tr>\n",
       "  </thead>\n",
       "  <tbody>\n",
       "    <tr>\n",
       "      <th>36</th>\n",
       "      <td>200003209996</td>\n",
       "      <td>2020</td>\n",
       "      <td>3</td>\n",
       "      <td>F</td>\n",
       "      <td>1</td>\n",
       "      <td>3</td>\n",
       "      <td>1</td>\n",
       "      <td>2</td>\n",
       "      <td>0</td>\n",
       "      <td>2</td>\n",
       "      <td>...</td>\n",
       "      <td>A</td>\n",
       "      <td>A</td>\n",
       "      <td>A</td>\n",
       "      <td>A</td>\n",
       "      <td>B</td>\n",
       "      <td>B</td>\n",
       "      <td>D</td>\n",
       "      <td>B</td>\n",
       "      <td>A</td>\n",
       "      <td>A</td>\n",
       "    </tr>\n",
       "    <tr>\n",
       "      <th>65</th>\n",
       "      <td>200003350911</td>\n",
       "      <td>2020</td>\n",
       "      <td>3</td>\n",
       "      <td>F</td>\n",
       "      <td>1</td>\n",
       "      <td>3</td>\n",
       "      <td>1</td>\n",
       "      <td>2</td>\n",
       "      <td>0</td>\n",
       "      <td>2</td>\n",
       "      <td>...</td>\n",
       "      <td>A</td>\n",
       "      <td>A</td>\n",
       "      <td>A</td>\n",
       "      <td>A</td>\n",
       "      <td>A</td>\n",
       "      <td>A</td>\n",
       "      <td>C</td>\n",
       "      <td>A</td>\n",
       "      <td>A</td>\n",
       "      <td>A</td>\n",
       "    </tr>\n",
       "    <tr>\n",
       "      <th>84</th>\n",
       "      <td>200005725669</td>\n",
       "      <td>2020</td>\n",
       "      <td>2</td>\n",
       "      <td>F</td>\n",
       "      <td>1</td>\n",
       "      <td>3</td>\n",
       "      <td>1</td>\n",
       "      <td>2</td>\n",
       "      <td>0</td>\n",
       "      <td>2</td>\n",
       "      <td>...</td>\n",
       "      <td>B</td>\n",
       "      <td>A</td>\n",
       "      <td>A</td>\n",
       "      <td>A</td>\n",
       "      <td>B</td>\n",
       "      <td>B</td>\n",
       "      <td>E</td>\n",
       "      <td>A</td>\n",
       "      <td>A</td>\n",
       "      <td>A</td>\n",
       "    </tr>\n",
       "    <tr>\n",
       "      <th>89</th>\n",
       "      <td>200004462096</td>\n",
       "      <td>2020</td>\n",
       "      <td>2</td>\n",
       "      <td>F</td>\n",
       "      <td>1</td>\n",
       "      <td>1</td>\n",
       "      <td>1</td>\n",
       "      <td>2</td>\n",
       "      <td>0</td>\n",
       "      <td>2</td>\n",
       "      <td>...</td>\n",
       "      <td>B</td>\n",
       "      <td>A</td>\n",
       "      <td>B</td>\n",
       "      <td>A</td>\n",
       "      <td>B</td>\n",
       "      <td>A</td>\n",
       "      <td>C</td>\n",
       "      <td>A</td>\n",
       "      <td>B</td>\n",
       "      <td>B</td>\n",
       "    </tr>\n",
       "    <tr>\n",
       "      <th>93</th>\n",
       "      <td>200002727241</td>\n",
       "      <td>2020</td>\n",
       "      <td>4</td>\n",
       "      <td>M</td>\n",
       "      <td>1</td>\n",
       "      <td>2</td>\n",
       "      <td>1</td>\n",
       "      <td>2</td>\n",
       "      <td>0</td>\n",
       "      <td>2</td>\n",
       "      <td>...</td>\n",
       "      <td>B</td>\n",
       "      <td>B</td>\n",
       "      <td>B</td>\n",
       "      <td>A</td>\n",
       "      <td>C</td>\n",
       "      <td>B</td>\n",
       "      <td>D</td>\n",
       "      <td>A</td>\n",
       "      <td>C</td>\n",
       "      <td>B</td>\n",
       "    </tr>\n",
       "  </tbody>\n",
       "</table>\n",
       "<p>5 rows × 72 columns</p>\n",
       "</div>"
      ],
      "text/plain": [
       "    NU_INSCRICAO  NU_ANO  TP_FAIXA_ETARIA TP_SEXO  TP_ESTADO_CIVIL  \\\n",
       "36  200003209996    2020                3       F                1   \n",
       "65  200003350911    2020                3       F                1   \n",
       "84  200005725669    2020                2       F                1   \n",
       "89  200004462096    2020                2       F                1   \n",
       "93  200002727241    2020                4       M                1   \n",
       "\n",
       "    TP_COR_RACA  TP_NACIONALIDADE  TP_ST_CONCLUSAO  TP_ANO_CONCLUIU  \\\n",
       "36            3                 1                2                0   \n",
       "65            3                 1                2                0   \n",
       "84            3                 1                2                0   \n",
       "89            1                 1                2                0   \n",
       "93            2                 1                2                0   \n",
       "\n",
       "    TP_ESCOLA  ... QNTD_MAQUINA_LAVAR  QNTD_MAQUINA_SECAR  QNTD_MICROONDAS  \\\n",
       "36          2  ...                  A                   A                A   \n",
       "65          2  ...                  A                   A                A   \n",
       "84          2  ...                  B                   A                A   \n",
       "89          2  ...                  B                   A                B   \n",
       "93          2  ...                  B                   B                B   \n",
       "\n",
       "   Q017  QNTD_TELEVISAO TV_ASSINATURA QNTD_CELULAR Q023 QNTD_COMPUTADOR  \\\n",
       "36    A               B             B            D    B               A   \n",
       "65    A               A             A            C    A               A   \n",
       "84    A               B             B            E    A               A   \n",
       "89    A               B             A            C    A               B   \n",
       "93    A               C             B            D    A               C   \n",
       "\n",
       "    ACESSO_INTERNET  \n",
       "36                A  \n",
       "65                A  \n",
       "84                A  \n",
       "89                B  \n",
       "93                B  \n",
       "\n",
       "[5 rows x 72 columns]"
      ]
     },
     "execution_count": 66,
     "metadata": {},
     "output_type": "execute_result"
    }
   ],
   "source": [
    "df.head()"
   ]
  },
  {
   "cell_type": "code",
   "execution_count": 15,
   "id": "a2dec75e",
   "metadata": {},
   "outputs": [
    {
     "data": {
      "text/plain": [
       "Index(['NU_INSCRICAO', 'NU_ANO', 'TP_FAIXA_ETARIA', 'TP_SEXO',\n",
       "       'TP_ESTADO_CIVIL', 'TP_COR_RACA', 'TP_NACIONALIDADE', 'TP_ST_CONCLUSAO',\n",
       "       'TP_ANO_CONCLUIU', 'TP_ESCOLA', 'TP_ENSINO', 'IN_TREINEIRO',\n",
       "       'CO_MUNICIPIO_ESC', 'NO_MUNICIPIO_ESC', 'CO_UF_ESC', 'SG_UF_ESC',\n",
       "       'TP_DEPENDENCIA_ADM_ESC', 'TP_LOCALIZACAO_ESC', 'TP_SIT_FUNC_ESC',\n",
       "       'CO_MUNICIPIO_PROVA', 'NO_MUNICIPIO_PROVA', 'CO_UF_PROVA',\n",
       "       'SG_UF_PROVA', 'TP_PRESENCA_CN', 'TP_PRESENCA_CH', 'TP_PRESENCA_LC',\n",
       "       'TP_PRESENCA_MT', 'CO_PROVA_CN', 'CO_PROVA_CH', 'CO_PROVA_LC',\n",
       "       'CO_PROVA_MT', 'NU_NOTA_CN', 'NU_NOTA_CH', 'NU_NOTA_LC', 'NU_NOTA_MT',\n",
       "       'TX_RESPOSTAS_CN', 'TX_RESPOSTAS_CH', 'TX_RESPOSTAS_LC',\n",
       "       'TX_RESPOSTAS_MT', 'TP_LINGUA', 'TX_GABARITO_CN', 'TX_GABARITO_CH',\n",
       "       'TX_GABARITO_LC', 'TX_GABARITO_MT', 'TP_STATUS_REDACAO',\n",
       "       'NU_NOTA_COMP1', 'NU_NOTA_COMP2', 'NU_NOTA_COMP3', 'NU_NOTA_COMP4',\n",
       "       'NU_NOTA_COMP5', 'NU_NOTA_REDACAO', 'Q001', 'Q002', 'Q003', 'Q004',\n",
       "       'Q005', 'Q006', 'Q007', 'Q008', 'Q009', 'Q010', 'Q011', 'Q012', 'Q013',\n",
       "       'Q014', 'Q015', 'Q016', 'Q017', 'Q018', 'Q019', 'Q020', 'Q021', 'Q022',\n",
       "       'Q023', 'Q024', 'Q025'],\n",
       "      dtype='object')"
      ]
     },
     "execution_count": 15,
     "metadata": {},
     "output_type": "execute_result"
    }
   ],
   "source": [
    "df.columns\n",
    "# NU_INSCRICAO -> Numero de inscrição do usuario do enem, mudar para string, utilizado para identificação, como um ID único\n",
    "# NU_ANO -> Ano em que o usuário fez a prova do enem, pegando um unique, o único ano é 2020, portanto pode dropar.\n",
    "# TP_FAIXA_ETARIA -> Faixa etária do usuário, onde a descrição pode ser encontrada no arquivo de desc das colunas, deixarei da forma que está, pra conseguirmos associar uma sensação de crescimento da idade, trabalhando com faixas etárias\n",
    "# TP_SEXO -> M ou F, tambem podemos manter assim\n",
    "# TP_ESTADO_CIVIL -> Aqui, valores inteiros não são necessários, pois não conseguimos fazer uma associação de > ou <, portanto mudei essa coluna para os respectivos valores\n",
    "# TP_COR_RACA -> Segue a ideia do estado civil\n",
    "# TP_ NACIONALIDADE -> Segue a ideia do estado civil\n",
    "# TP_ST_CONCLUSAO -> Segue a ideia do estado civil\n",
    "# TP_ANO_CONCLUIU -> Segue a ideia da faixa etária\n",
    "# TP_ESCOLA -> Alterar valores inteiros para as chaves correspondentes\n",
    "# TP_ENSINO -> Segue o raciocinio do TP_ESCOLA\n",
    "# IN_TREINEIRO -> Passar para True ou False\n",
    "# CO_MUNICIPIO_ESC -> Mantem igual\n",
    "# NO_MUNICIPIO_ESC -> Mantem igual\n",
    "# CO_UF_ESC -> Mantem igual\n",
    "# SG_UF_ESC -> Mantem igual\n",
    "# TP_DEPENDENCIA_ADM_ESC -> Alterar valores inteiros para as chaves correspondentes\n",
    "# TP_LOCALIZACAO_ESC -> Alterar valores inteiros para as chaves correspondentes\n",
    "# TP_SIT_FUNC_ESC -> Alterar valores inteiros para as chaves correspondentes\n",
    "# CO_MUNICIPIO_PROVA -> Mantem igual\n",
    "# NO_MUNICIPIO_PROVA -> Mantem igual\n",
    "# CO_UF_PROVA -> Mantem igual\n",
    "# SG_UF_PROVA -> Mantem igual\n",
    "# TP_PRESENCA_CN -> Alterar valores inteiros para as chaves correspondentes\n",
    "# TP_PRESENCA_CH -> Alterar valores inteiros para as chaves correspondentes\n",
    "# TP_PRESENCA_LC -> Alterar valores inteiros para as chaves correspondentes\n",
    "# TP_PRESENCA_MT -> Alterar valores inteiros para as chaves correspondentes\n",
    "# CO_PROVA_CN -> Mantem igual\n",
    "# CO_PROVA_CH -> Mantem igual\n",
    "# CO_PROVA_LC -> Mantem igual\n",
    "# CO_PROVA_MT -> Mantem igual\n",
    "# NU_NOTA_CN -> Mantem igual\n",
    "# NU_NOTA_CH -> Mantem igual\n",
    "# NU_NOTA_LC -> mantem igual\n",
    "# NU_NOTA_MT -> Mantem igual\n",
    "# TX_RESPOSTAS_CN -> Mantem igual\n",
    "# TX_RESPOSTAS_CH -> Mantem igual\n",
    "# TX_RESPOSTAS_LC -> Mantem igual\n",
    "# TX_RESPOSTAS_MT -> Mantem igual\n",
    "# TP_LINGUA -> Alterar valores inteiros para as chaves correspondentes\n",
    "# TX_GABARITO_CN -> Mantem igual\n",
    "# TX_GABARITO_CH -> Mantem igual\n",
    "# TX_GABARITO_LC -> Mantem igual\n",
    "# TX_GABARITO_MT -> Mantem igual\n",
    "# TP_STATUS_REDACAO -> Alteramos e trocamos os campos para normal e anulada, e posteriormente, trocamos pra um valor bool.\n",
    "# NU_NOTA_COMP1 -> Mantem igual\n",
    "# NU_NOTA_COMP2 -> Mantem igual\n",
    "# NU_NOTA_COMP3 -> Mantem igual\n",
    "# NU_NOTA_COMP4 -> Mantem igual\n",
    "# NU_NOTA_COMP5 -> Mantem igual\n",
    "# NU_NOTA_REDACAO -> Mantem igual\n",
    "# Q001\n",
    "# Q002\n",
    "# Q003 -> Dropada\n",
    "# Q004 -> Dropada\n",
    "# Q005 \n",
    "# Q006\n",
    "# Q007\n",
    "# Q008\n",
    "# Q009\n",
    "# Q010\n",
    "# Q011\n",
    "# Q012\n",
    "# Q013\n",
    "# Q014\n",
    "# Q015\n",
    "# Q016\n",
    "# Q017 -> Dropada\n",
    "# Q018 -> Dropada\n",
    "# Q019\n",
    "# Q020 -> Dropada\n",
    "# Q021\n",
    "# Q022\n",
    "# Q023\n",
    "# Q024\n",
    "# Q025"
   ]
  }
 ],
 "metadata": {
  "kernelspec": {
   "display_name": "Python 3 (ipykernel)",
   "language": "python",
   "name": "python3"
  },
  "language_info": {
   "codemirror_mode": {
    "name": "ipython",
    "version": 3
   },
   "file_extension": ".py",
   "mimetype": "text/x-python",
   "name": "python",
   "nbconvert_exporter": "python",
   "pygments_lexer": "ipython3",
   "version": "3.8.10"
  }
 },
 "nbformat": 4,
 "nbformat_minor": 5
}
