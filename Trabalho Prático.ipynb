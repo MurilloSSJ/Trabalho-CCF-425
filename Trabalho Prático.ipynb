{
 "cells": [
  {
   "cell_type": "code",
   "execution_count": 12,
   "id": "516a97a8",
   "metadata": {},
   "outputs": [
    {
     "data": {
      "text/plain": [
       "<bound method NDFrame.head of         NU_INSCRICAO  NU_ANO  TP_FAIXA_ETARIA TP_SEXO  TP_ESTADO_CIVIL  \\\n",
       "0       200006271946    2020               11       F                1   \n",
       "1       200001195856    2020               11       M                2   \n",
       "2       200001943954    2020                4       F                2   \n",
       "3       200001908998    2020                2       M                1   \n",
       "4       200001634757    2020                4       F                1   \n",
       "...              ...     ...              ...     ...              ...   \n",
       "499995  200004258287    2020                2       F                1   \n",
       "499996  200005431672    2020               11       F                1   \n",
       "499997  200001990914    2020                2       M                1   \n",
       "499998  200005626167    2020               11       F                1   \n",
       "499999  200002236054    2020               11       M                1   \n",
       "\n",
       "        TP_COR_RACA  TP_NACIONALIDADE  TP_ST_CONCLUSAO  TP_ANO_CONCLUIU  \\\n",
       "0                 2                 1                1               11   \n",
       "1                 3                 1                1               11   \n",
       "2                 3                 2                2                0   \n",
       "3                 3                 1                2                0   \n",
       "4                 3                 2                1                1   \n",
       "...             ...               ...              ...              ...   \n",
       "499995            2                 1                2                0   \n",
       "499996            1                 1                1                9   \n",
       "499997            1                 1                2                0   \n",
       "499998            3                 1                1               12   \n",
       "499999            1                 1                1                0   \n",
       "\n",
       "        TP_ESCOLA  ...  Q016  Q017  Q018 Q019  Q020 Q021  Q022  Q023  Q024  \\\n",
       "0               1  ...   NaN   NaN   NaN  NaN   NaN  NaN   NaN   NaN   NaN   \n",
       "1               1  ...   NaN   NaN   NaN  NaN   NaN  NaN   NaN   NaN   NaN   \n",
       "2               2  ...     B     A     A    B     A    A     A     A     A   \n",
       "3               2  ...   NaN   NaN   NaN  NaN   NaN  NaN   NaN   NaN   NaN   \n",
       "4               1  ...     A     A     A    B     A    B     B     A     A   \n",
       "...           ...  ...   ...   ...   ...  ...   ...  ...   ...   ...   ...   \n",
       "499995          2  ...     A     A     A    B     B    A     D     A     A   \n",
       "499996          1  ...     B     A     A    B     A    A     E     B     A   \n",
       "499997          3  ...     B     A     B    D     A    B     E     B     E   \n",
       "499998          1  ...     A     A     A    B     B    A     D     A     A   \n",
       "499999          1  ...     A     A     A    B     A    A     B     A     B   \n",
       "\n",
       "        Q025  \n",
       "0        NaN  \n",
       "1        NaN  \n",
       "2          A  \n",
       "3        NaN  \n",
       "4          B  \n",
       "...      ...  \n",
       "499995     B  \n",
       "499996     B  \n",
       "499997     B  \n",
       "499998     A  \n",
       "499999     B  \n",
       "\n",
       "[500000 rows x 76 columns]>"
      ]
     },
     "execution_count": 12,
     "metadata": {},
     "output_type": "execute_result"
    }
   ],
   "source": [
    "import pandas as pd\n",
    "df = pd.read_csv('../Downloads/microdados_enem_2020/DADOS/MICRODADOS_ENEM_2020.csv', encoding='latin1', sep=';', nrows=500000)\n",
    "df.head"
   ]
  },
  {
   "cell_type": "code",
   "execution_count": 13,
   "id": "8116a860",
   "metadata": {},
   "outputs": [
    {
     "data": {
      "text/plain": [
       "array(['Solteiro', 'Casado', 'Nao Informado', 'Divorciado', 'Viuvo'],\n",
       "      dtype=object)"
      ]
     },
     "execution_count": 13,
     "metadata": {},
     "output_type": "execute_result"
    }
   ],
   "source": [
    "def alter_estado_civil(value):\n",
    "    dict_states = ['Nao Informado', 'Solteiro', 'Casado', 'Divorciado', 'Viuvo']\n",
    "    return dict_states[value]\n",
    "df['TP_ESTADO_CIVIL'] = df['TP_ESTADO_CIVIL'].map(lambda x : alter_estado_civil(x))\n",
    "df['TP_ESTADO_CIVIL'].unique()"
   ]
  },
  {
   "cell_type": "code",
   "execution_count": 14,
   "id": "6ceff687",
   "metadata": {},
   "outputs": [
    {
     "data": {
      "text/plain": [
       "0          Preta\n",
       "1          Parda\n",
       "2          Parda\n",
       "3          Parda\n",
       "4          Parda\n",
       "           ...  \n",
       "499995     Preta\n",
       "499996    Branca\n",
       "499997    Branca\n",
       "499998     Parda\n",
       "499999    Branca\n",
       "Name: TP_COR_RACA, Length: 500000, dtype: object"
      ]
     },
     "execution_count": 14,
     "metadata": {},
     "output_type": "execute_result"
    }
   ],
   "source": [
    "def alter_cor_raca(value):\n",
    "    map_object = ['Nao Declarado', 'Branca', 'Preta', 'Parda', 'Amarela', 'Indigena']\n",
    "    return map_object[value]\n",
    "df['TP_COR_RACA'] = df['TP_COR_RACA'].map(lambda x: alter_cor_raca(x))\n",
    "df['TP_COR_RACA']"
   ]
  },
  {
   "cell_type": "code",
   "execution_count": 15,
   "id": "b42d6bff",
   "metadata": {},
   "outputs": [
    {
     "data": {
      "text/plain": [
       "0                      Brasileiro\n",
       "1                      Brasileiro\n",
       "2         Brasileiro Naturalizado\n",
       "3                      Brasileiro\n",
       "4         Brasileiro Naturalizado\n",
       "                   ...           \n",
       "499995                 Brasileiro\n",
       "499996                 Brasileiro\n",
       "499997                 Brasileiro\n",
       "499998                 Brasileiro\n",
       "499999                 Brasileiro\n",
       "Name: TP_NACIONALIDADE, Length: 500000, dtype: object"
      ]
     },
     "execution_count": 15,
     "metadata": {},
     "output_type": "execute_result"
    }
   ],
   "source": [
    "def alter_nacionalidade(value):\n",
    "    map_objects = ['Nao informado', 'Brasileiro', 'Brasileiro Naturalizado', 'Estrangeiro', 'Brasileiro nascido no exterior']\n",
    "    if value != None:\n",
    "        return map_objects[value]\n",
    "    else:\n",
    "        return 'Nao informado'\n",
    "\n",
    "df['TP_NACIONALIDADE'] = df['TP_NACIONALIDADE'].map(lambda x: alter_nacionalidade(x))\n",
    "df['TP_NACIONALIDADE']"
   ]
  },
  {
   "cell_type": "code",
   "execution_count": 16,
   "id": "518d996f",
   "metadata": {},
   "outputs": [
    {
     "data": {
      "text/plain": [
       "0                 Ensino medio completo\n",
       "1                 Ensino medio completo\n",
       "2         Ensino medio completo em 2020\n",
       "3         Ensino medio completo em 2020\n",
       "4                 Ensino medio completo\n",
       "                      ...              \n",
       "499995    Ensino medio completo em 2020\n",
       "499996            Ensino medio completo\n",
       "499997    Ensino medio completo em 2020\n",
       "499998            Ensino medio completo\n",
       "499999            Ensino medio completo\n",
       "Name: TP_ST_CONCLUSAO, Length: 500000, dtype: object"
      ]
     },
     "execution_count": 16,
     "metadata": {},
     "output_type": "execute_result"
    }
   ],
   "source": [
    "def alter_st_conclusao(value):\n",
    "    map_objects = ['Ensino medio completo', 'Ensino medio completo em 2020', 'Ensino Medio Incompleto apos 2020', 'Sem ensino medio']\n",
    "    return map_objects[value - 1]\n",
    "df['TP_ST_CONCLUSAO'] = df['TP_ST_CONCLUSAO'].map(lambda x : alter_st_conclusao(x))\n",
    "df['TP_ST_CONCLUSAO']"
   ]
  },
  {
   "cell_type": "code",
   "execution_count": 18,
   "id": "565661a7",
   "metadata": {},
   "outputs": [
    {
     "data": {
      "text/plain": [
       "0                  2009\n",
       "1                  2009\n",
       "2         Nao Informado\n",
       "3         Nao Informado\n",
       "4                  2019\n",
       "              ...      \n",
       "499995    Nao Informado\n",
       "499996             2011\n",
       "499997    Nao Informado\n",
       "499998             2008\n",
       "499999    Nao Informado\n",
       "Name: TP_ANO_CONCLUIU, Length: 500000, dtype: object"
      ]
     },
     "execution_count": 18,
     "metadata": {},
     "output_type": "execute_result"
    }
   ],
   "source": [
    "import datetime\n",
    "def alter_ano_concluiu(value):\n",
    "    map_objects = ['Nao Informado', 2019, 2018, 2017, 2016, 2015, 2014, 2013, 2012, 2011, 2010, 2009, 2008, 2007, 'Antes de 2007']\n",
    "    return map_objects[value]\n",
    "df['TP_ANO_CONCLUIU'] = df['TP_ANO_CONCLUIU'].map(lambda x: alter_ano_concluiu(x))\n",
    "df['TP_ANO_CONCLUIU']"
   ]
  },
  {
   "cell_type": "code",
   "execution_count": 15,
   "id": "a2dec75e",
   "metadata": {},
   "outputs": [
    {
     "data": {
      "text/plain": [
       "Index(['NU_INSCRICAO', 'NU_ANO', 'TP_FAIXA_ETARIA', 'TP_SEXO',\n",
       "       'TP_ESTADO_CIVIL', 'TP_COR_RACA', 'TP_NACIONALIDADE', 'TP_ST_CONCLUSAO',\n",
       "       'TP_ANO_CONCLUIU', 'TP_ESCOLA', 'TP_ENSINO', 'IN_TREINEIRO',\n",
       "       'CO_MUNICIPIO_ESC', 'NO_MUNICIPIO_ESC', 'CO_UF_ESC', 'SG_UF_ESC',\n",
       "       'TP_DEPENDENCIA_ADM_ESC', 'TP_LOCALIZACAO_ESC', 'TP_SIT_FUNC_ESC',\n",
       "       'CO_MUNICIPIO_PROVA', 'NO_MUNICIPIO_PROVA', 'CO_UF_PROVA',\n",
       "       'SG_UF_PROVA', 'TP_PRESENCA_CN', 'TP_PRESENCA_CH', 'TP_PRESENCA_LC',\n",
       "       'TP_PRESENCA_MT', 'CO_PROVA_CN', 'CO_PROVA_CH', 'CO_PROVA_LC',\n",
       "       'CO_PROVA_MT', 'NU_NOTA_CN', 'NU_NOTA_CH', 'NU_NOTA_LC', 'NU_NOTA_MT',\n",
       "       'TX_RESPOSTAS_CN', 'TX_RESPOSTAS_CH', 'TX_RESPOSTAS_LC',\n",
       "       'TX_RESPOSTAS_MT', 'TP_LINGUA', 'TX_GABARITO_CN', 'TX_GABARITO_CH',\n",
       "       'TX_GABARITO_LC', 'TX_GABARITO_MT', 'TP_STATUS_REDACAO',\n",
       "       'NU_NOTA_COMP1', 'NU_NOTA_COMP2', 'NU_NOTA_COMP3', 'NU_NOTA_COMP4',\n",
       "       'NU_NOTA_COMP5', 'NU_NOTA_REDACAO', 'Q001', 'Q002', 'Q003', 'Q004',\n",
       "       'Q005', 'Q006', 'Q007', 'Q008', 'Q009', 'Q010', 'Q011', 'Q012', 'Q013',\n",
       "       'Q014', 'Q015', 'Q016', 'Q017', 'Q018', 'Q019', 'Q020', 'Q021', 'Q022',\n",
       "       'Q023', 'Q024', 'Q025'],\n",
       "      dtype='object')"
      ]
     },
     "execution_count": 15,
     "metadata": {},
     "output_type": "execute_result"
    }
   ],
   "source": [
    "df.columns\n",
    "# NU_INSCRICAO -> Numero de inscrição do usuario do enem, mudar para string, utilizado para identificação, como um ID único\n",
    "# NU_ANO -> Ano em que o usuário fez a prova do enem, pegando um unique, o único ano é 2020, portanto pode dropar.\n",
    "# TP_FAIXA_ETARIA -> Faixa etária do usuário, onde a descrição pode ser encontrada no arquivo de desc das colunas, deixarei da forma que está, pra conseguirmos associar uma sensação de crescimento da idade, trabalhando com faixas etárias\n",
    "# TP_SEXO -> M ou F, tambem podemos manter assim\n",
    "# TP_ESTADO_CIVIL -> Aqui, valores inteiros não são necessários, pois não conseguimos fazer uma associação de > ou <, portanto mudei essa coluna para os respectivos valores\n",
    "# TP_COR_RACA -> Segue a ideia do estado civil\n",
    "# TP_ NACIONALIDADE -> Segue a ideia do estado civil\n",
    "# TP_ST_CONCLUSAO -> Segue a ideia do estado civil\n",
    "# TP_ANO_CONCLUIU -> Segue a ideia da faixa etária\n",
    "# TP_ESCOLA\n",
    "# TP_ENSINO\n",
    "# IN_TREINEIRO\n",
    "# CO_MUNICIPIO_ESC\n",
    "# NO_MUNICIPIO_ESC\n",
    "# CO_UF_ESC\n",
    "# SG_UF_ESC\n",
    "# TP_DEPENDENCIA_ADM_ESC\n",
    "# TP_LOCALIZACAO_ESC\n",
    "# TP_SIT_FUNC_ESC\n",
    "# CO_MUNICIPIO_PROVA\n",
    "# NO_MUNICIPIO_PROVA\n",
    "# CO_UF_PROVA\n",
    "# SG_UF_PROVA\n",
    "# TP_PRESENCA_CN\n",
    "# TP_PRESENCA_CH\n",
    "# TP_PRESENCA_LC\n",
    "# TP_PRESENCA_MT\n",
    "# CO_PROVA_CN\n",
    "# CO_PROVA_CH\n",
    "# CO_PROVA_LC\n",
    "# CO_PROVA_MT\n",
    "# NU_NOTA_CN\n",
    "# NU_NOTA_CH\n",
    "# NU_NOTA_LC\n",
    "# NU_NOTA_MT\n",
    "# TX_RESPOSTAS_CN\n",
    "# TX_RESPOSTAS_CH\n",
    "# TX_RESPOSTAS_LC\n",
    "# TX_RESPOSTAS_MT\n",
    "# TP_LINGUA\n",
    "# TX_GABARITO_CN\n",
    "# TX_GABARITO_CH\n",
    "# TX_GABARITO_LC\n",
    "# TX_GABARITO_MT\n",
    "# TP_STATUS_REDACAO\n",
    "# NU_NOTA_COMP1\n",
    "# NU_NOTA_COMP2\n",
    "# NU_NOTA_COMP3\n",
    "# NU_NOTA_COMP4\n",
    "# NU_NOTA_COMP5\n",
    "# NU_NOTA_REDACAO\n",
    "# Q001\n",
    "# Q002\n",
    "# Q003\n",
    "# Q004\n",
    "# Q005\n",
    "# Q006\n",
    "# Q007\n",
    "# Q008\n",
    "# Q009\n",
    "# Q010\n",
    "# Q011\n",
    "# Q012\n",
    "# Q013\n",
    "# Q014\n",
    "# Q015\n",
    "# Q016\n",
    "# Q017\n",
    "# Q018\n",
    "# Q019\n",
    "# Q020\n",
    "# Q021\n",
    "# Q022\n",
    "# Q023\n",
    "# Q024\n",
    "# Q025"
   ]
  }
 ],
 "metadata": {
  "kernelspec": {
   "display_name": "Python 3 (ipykernel)",
   "language": "python",
   "name": "python3"
  },
  "language_info": {
   "codemirror_mode": {
    "name": "ipython",
    "version": 3
   },
   "file_extension": ".py",
   "mimetype": "text/x-python",
   "name": "python",
   "nbconvert_exporter": "python",
   "pygments_lexer": "ipython3",
   "version": "3.8.10"
  }
 },
 "nbformat": 4,
 "nbformat_minor": 5
}
